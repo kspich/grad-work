{
  "cells": [
    {
      "cell_type": "code",
      "execution_count": 3,
      "metadata": {
        "id": "PT5CZKMmyomW"
      },
      "outputs": [],
      "source": [
        "import matplotlib.pyplot as plt\n",
        "import pandas as pd\n",
        "from matplotlib.backends.backend_pdf import PdfPages\n",
        "import numpy as np\n",
        "import random\n",
        "import copy\n",
        "from sklearn.datasets import make_classification\n",
        "from sklearn.datasets import make_blobs\n",
        "from sklearn.datasets import make_gaussian_quantiles"
      ]
    },
    {
      "cell_type": "code",
      "execution_count": 3,
      "metadata": {},
      "outputs": [],
      "source": [
        "def PCA(X , num_components):\n",
        "     \n",
        "    X_meaned = (X - np.mean(X , axis = 0)) / np.std(X, axis = 0)\n",
        "    cov_mat = np.cov(X_meaned , rowvar = False)\n",
        "    eigen_values , eigen_vectors = np.linalg.eigh(cov_mat)\n",
        "    sorted_index = np.argsort(eigen_values)[::-1]\n",
        "    sorted_eigenvectors = eigen_vectors[:,sorted_index]\n",
        "    eigenvector_subset = sorted_eigenvectors[:,0:num_components]\n",
        "    X_reduced = np.dot(eigenvector_subset.transpose() , X_meaned.transpose())#.transpose()\n",
        "     \n",
        "    return X_reduced"
      ]
    },
    {
      "cell_type": "code",
      "execution_count": 4,
      "metadata": {},
      "outputs": [],
      "source": [
        "locals = []\n",
        "avg_timespans = []\n",
        "gr_freqs = []\n",
        "avg_sizes = []\n",
        "icmp_packets = []\n",
        "i = 0;\n",
        "\n",
        "with open('window_data.txt', 'r') as f:\n",
        "    lines = f.readlines()\n",
        "    for line in lines:\n",
        "        nums = line.strip().split(' ')\n",
        "        locals.append(int(nums[0]))\n",
        "        avg_timespans.append(float(nums[1]))\n",
        "        gr_freqs.append(int(nums[2]))\n",
        "        avg_sizes.append(float(nums[3]))\n",
        "        icmp_packets.append(int(nums[4]))\n",
        "\n",
        "observations = np.vstack(( \n",
        "                        np.array(avg_timespans),\n",
        "                        np.array(locals),\n",
        "                        np.array(gr_freqs), \n",
        "                        np.array(avg_sizes), \n",
        "                        np.array(icmp_packets)))\n",
        "observations = observations.transpose()\n",
        "reduced_observations = PCA(observations, 2)\n",
        "\n",
        "reduced_observations = reduced_observations[0:2, 0:10000]"
      ]
    },
    {
      "cell_type": "code",
      "execution_count": 5,
      "metadata": {},
      "outputs": [],
      "source": [
        "url = \"https://archive.ics.uci.edu/ml/machine-learning-databases/iris/iris.data\"\n",
        "iris_data = pd.read_csv(url, names=['sepal length','sepal width','petal length','petal width','target'])\n",
        "reduced_iris = PCA(iris_data.iloc[:,0:3], 2)"
      ]
    },
    {
      "cell_type": "code",
      "execution_count": 6,
      "metadata": {
        "id": "oyizOP_cYicR"
      },
      "outputs": [],
      "source": [
        "def euclidian(array, cluster, n ,k ,dim): \n",
        "\tcluster_content = [[] for i in range(k)]\n",
        "\n",
        "\tfor i in range(n):\n",
        "\t\tmin_distance = float('inf')\n",
        "\t\tsituable_cluster = -1\n",
        "\t\tfor j in range(k):\n",
        "\t\t\tdistance = 0\n",
        "\t\t\tfor q in range(dim):\n",
        "\t\t\t\tdistance += (array[i][q]-cluster[j][q])**2\n",
        "\t\t\t\t\t\t\n",
        "\t\t\tdistance = distance**(1/2)\n",
        "\t\t\tif distance < min_distance:\n",
        "\t\t\t\tmin_distance = distance\n",
        "\t\t\t\tsituable_cluster = j\n",
        "\n",
        "\t\tcluster_content[situable_cluster].append(array[i])\n",
        "\t\t\n",
        "\treturn cluster_content"
      ]
    },
    {
      "cell_type": "code",
      "execution_count": 7,
      "metadata": {
        "id": "Zr9UTDIfj8h4"
      },
      "outputs": [],
      "source": [
        "#mean = np.mean(reduced, axis = 0)\n",
        "#centered_data = reduced - mean\n",
        "cov_matrix = np.cov(reduced_observations)#centered_data)\n",
        "inv_cov_matrix = np.linalg.inv(cov_matrix)\n",
        "#print(np.shape(inv_cov_matrix))"
      ]
    },
    {
      "cell_type": "code",
      "execution_count": 8,
      "metadata": {},
      "outputs": [],
      "source": [
        "def calc_mahalanobis(v1, v2, cov_inv):\n",
        "    dim = len(v1)\n",
        "    delta = []\n",
        "    for i in range(dim):\n",
        "            delta.append(v1[i] - v2[i])\n",
        "\n",
        "    deltaS = []\n",
        "    for i in range(dim):\n",
        "        deltaS.append(0);\n",
        "        for j in range(dim):\n",
        "            deltaS[i] += delta[j]*cov_inv[j][i]\n",
        "    d = 0;\n",
        "    for i in range(dim):\n",
        "        d += deltaS[i]*delta[i]\n",
        "\n",
        "    d = d**(1/2)\n",
        "\n",
        "    return d;"
      ]
    },
    {
      "cell_type": "code",
      "execution_count": 9,
      "metadata": {
        "id": "n_H0Fu8dYma-"
      },
      "outputs": [],
      "source": [
        "def mahalanobis(array, cluster, n ,k ,dim): \n",
        "\tcluster_content = [[] for i in range(k)]\n",
        "\n",
        "\tfor i in range(n):\n",
        "\t\tmin_distance = 15\n",
        "\t\tsituable_cluster = -1\n",
        "\t\tfor j in range(k):\n",
        "\t\t\td = calc_mahalanobis(array[i], cluster[j], inv_cov_matrix)\n",
        "\t\t\tif d < min_distance:\n",
        "\t\t\t\tmin_distance = d\n",
        "\t\t\t\tsituable_cluster = j\n",
        "\n",
        "\t\tcluster_content[situable_cluster].append(array[i])\n",
        "\t\t\n",
        "\treturn cluster_content"
      ]
    },
    {
      "cell_type": "code",
      "execution_count": 10,
      "metadata": {
        "id": "IG3KUZ72X9qd"
      },
      "outputs": [],
      "source": [
        "def cluster_update(cluster, cluster_content, dim):\n",
        "\tk = len(cluster)\n",
        "\tfor i in range(k): #по i кластерам\n",
        "\t\tfor q in range(dim): #по q параметрам\n",
        "\t\t\tupdated_parameter = 0\n",
        "\t\t\tfor j in range(len(cluster_content[i])): \n",
        "\t\t\t\tupdated_parameter += cluster_content[i][j][q]\n",
        "\t\t\tif len(cluster_content[i]) != 0:\n",
        "\t\t\t\tupdated_parameter = updated_parameter / len(cluster_content[i])\n",
        "\t\t\tcluster[i][q] = updated_parameter\n",
        "\treturn cluster\n",
        "\n",
        "max_cluster_value = -40\n",
        "\n",
        "def clusterization(array, k, metrics):\n",
        "\tn = len(array)  \n",
        "\tdim = len(array[0])  \n",
        "\n",
        "\t\n",
        "\tcluster = [[0 for i in range(dim)] for q in range(k)] \n",
        "\tcluster_content = [[] for i in range(k)] \n",
        "\n",
        "\tfor i in range(dim):\n",
        "\t\tfor q in range(k):\n",
        "\t\t\tcluster[q][i] = random.randint(max_cluster_value, 0) \n",
        "\n",
        "\tcluster_content = metrics(array, cluster, n , k, dim)\n",
        "\n",
        "\tprivious_cluster = copy.deepcopy(cluster)\n",
        "\twhile 1:\n",
        "\t\tcluster = cluster_update(cluster, cluster_content, dim)\n",
        "\t\tcluster_content = metrics(array, cluster, n, k, dim)\n",
        "\t\tif cluster == privious_cluster:\n",
        "\t\t\treturn cluster, cluster_content\n",
        "\t\tprivious_cluster = copy.deepcopy(cluster)\n",
        "\n",
        "def prepare_data(data):\n",
        "\tto_clusterize = []\n",
        "\tfor i in range(len(data[0])):\n",
        "\t\tto_clusterize.append([data[0][i], data[1][i]])\n",
        "\treturn to_clusterize"
      ]
    },
    {
      "cell_type": "code",
      "execution_count": 15,
      "metadata": {
        "id": "IsOosDSIyomh",
        "outputId": "d7a37b6c-2167-4930-db0c-61a2f5d4a5eb"
      },
      "outputs": [
        {
          "name": "stdout",
          "output_type": "stream",
          "text": [
            "2  clusters total\n"
          ]
        },
        {
          "data": {
            "image/png": "[encoded data removed]",
            "text/plain": [
              "<Figure size 640x480 with 1 Axes>"
            ]
          },
          "metadata": {},
          "output_type": "display_data"
        }
      ],
      "source": [
        "import matplotlib.colors as mcolors\n",
        "\n",
        "to_clusterize = prepare_data(reduced_iris)\n",
        "\n",
        "centers, cl = clusterization(to_clusterize, 2, euclidian)# mahalanobis)\n",
        "print(len(centers), \" clusters total\")\n",
        "\n",
        "cl_dots = []\n",
        "for i in range(len(centers)):\n",
        "    cl_dots.append(np.array(cl[i]).transpose())\n",
        "\n",
        "fig, ax = plt.subplots(1)\n",
        "ax.set_xlabel(\"PC1\")\n",
        "ax.set_ylabel(\"PC2\")\n",
        "colors = mcolors.TABLEAU_COLORS\n",
        "ax.set_prop_cycle\n",
        "\n",
        "for i in range(len(centers)):\n",
        "    plt.scatter(cl_dots[i][0], cl_dots[i][1], s = 15)\n",
        "    plt.scatter(centers[i][0], centers[i][1], c = 'black', s = 20, marker = \"v\")"
      ]
    },
    {
      "cell_type": "code",
      "execution_count": null,
      "metadata": {
        "id": "GZXekFNPyomj"
      },
      "outputs": [],
      "source": []
    }
  ],
  "metadata": {
    "colab": {
      "provenance": []
    },
    "kernelspec": {
      "display_name": "Python 3.11.0 64-bit",
      "language": "python",
      "name": "python3"
    },
    "language_info": {
      "codemirror_mode": {
        "name": "ipython",
        "version": 3
      },
      "file_extension": ".py",
      "mimetype": "text/x-python",
      "name": "python",
      "nbconvert_exporter": "python",
      "pygments_lexer": "ipython3",
      "version": "3.11.0"
    },
    "orig_nbformat": 4,
    "vscode": {
      "interpreter": {
        "hash": "58bcdda1e11274d498aeebcd6e09affe5fbc79bc45dc1da75d2f18802d1dd83d"
      }
    }
  },
  "nbformat": 4,
  "nbformat_minor": 0
}
